{
 "cells": [
  {
   "cell_type": "code",
   "execution_count": null,
   "metadata": {},
   "outputs": [],
   "source": [
    "\"\"\"Module for logging.\"\"\"\n"
   ]
  },
  {
   "cell_type": "markdown",
   "metadata": {},
   "source": [
    "23.01.2024\n",
    "Ознакомление с таким сервисом как \"Github\" и программой \"VSCode\"\n",
    "Первоночально разобрались с тем как создать свой репозиторий на Github.\n",
    "Добавили репозитории в избранное.\n",
    "Для этого нужно:\n",
    "1.Зайти на нужный репозиторий и нажать на (star или же Звёздочку)\n",
    "Такие репозитории отдельно выделяются в разделе Your stars на github\n",
    "Так же научились копировать репозитории к себе и делать в нём правки.\n",
    "Для этого нужно: На нужном репозитории нажать Fork, далее мы можем перенести данный репозиторий в \"VSCode\" для этого нужно перейти на него, нажать Code, скопировать ссылку.\n",
    "Переходим в VSCode далее:\n",
    "1.Переходим в гит(три кружочка)\n",
    "2.Нажимаем три точки\n",
    "3.clone и вставляем ссылку на репозиторий\n",
    "Так же научились делать pullrequest\n",
    "1. fork\n",
    "2. clone vscode(3 кружочка слева)\n",
    "3. edit code\n",
    "4.commit\n",
    "5.push\n",
    "6.pullrequest в github\n",
    "Узнали что означают следующие понятия:\n",
    "! - это взаимодейтсвие с терминалом \n",
    "pip - это пакетный менеджер, управляет зависимостями, то есть библиотеки,модули\n",
    "git - это контроль версий, он локальный."
   ]
  },
  {
   "cell_type": "markdown",
   "metadata": {},
   "source": [
    "19.10.24\n",
    "\n",
    "1. настроили github и python\n",
    "2. обсудили множества чисел (простые, натуральные, целые, рациональные, иррациональные), объединение, пересечение множеств\n",
    "3. диаграмма Эйлера-Венна, кванторы\n",
    "4. повторили сложение дробей, степени, понятие функции, графики sin и cos\n",
    "5. вопросы по школьной математике\n",
    "6. вопросы по теорверу, статистике"
   ]
  },
  {
   "cell_type": "code",
   "execution_count": null,
   "metadata": {},
   "outputs": [],
   "source": [
    "c:\\Users\\burya\\AppData\\Local\\Programs\\Python\\Python312\\Scripts\\pre-commit run --all-files"
   ]
  },
  {
   "cell_type": "markdown",
   "metadata": {},
   "source": []
  }
 ],
 "metadata": {
  "kernelspec": {
   "display_name": "Python 3",
   "language": "python",
   "name": "python3"
  },
  "language_info": {
   "codemirror_mode": {
    "name": "ipython",
    "version": 3
   },
   "file_extension": ".py",
   "mimetype": "text/x-python",
   "name": "python",
   "nbconvert_exporter": "python",
   "pygments_lexer": "ipython3",
   "version": "3.12.1"
  }
 },
 "nbformat": 4,
 "nbformat_minor": 2
}
